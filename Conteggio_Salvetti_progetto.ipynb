{
  "nbformat": 4,
  "nbformat_minor": 0,
  "metadata": {
    "colab": {
      "name": "Conteggio_Salvetti.ipynb",
      "provenance": [],
      "collapsed_sections": []
    },
    "kernelspec": {
      "name": "python3",
      "display_name": "Python 3"
    },
    "language_info": {
      "name": "python"
    }
  },
  "cells": [
    {
      "cell_type": "code",
      "metadata": {
        "id": "TLSW1i4vesXe"
      },
      "source": [
        "#dichiarazione di tutte le librerie necessarie per l'esecuzione del codice\n",
        "import pandas as pd\n",
        "import networkx.algorithms as nxa\n",
        "import networkx as nx\n",
        "import matplotlib.pyplot as plt\n",
        "import xml.etree.ElementTree as ET\n",
        "import itertools"
      ],
      "execution_count": 52,
      "outputs": []
    },
    {
      "cell_type": "code",
      "metadata": {
        "id": "sGdnMrRWffbV",
        "colab": {
          "resources": {
            "http://localhost:8080/nbextensions/google.colab/files.js": {
              "data": "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",
              "ok": true,
              "headers": [
                [
                  "content-type",
                  "application/javascript"
                ]
              ],
              "status": 200,
              "status_text": ""
            }
          },
          "base_uri": "https://localhost:8080/",
          "height": 276
        },
        "outputId": "7dd26e1e-ff42-44e5-cda4-9ca4150978fd"
      },
      "source": [
        "from google.colab import files #Istruzione che permette di caricare i file da analizzare\n",
        "uploaded = files.upload()"
      ],
      "execution_count": 63,
      "outputs": [
        {
          "output_type": "display_data",
          "data": {
            "text/html": [
              "\n",
              "     <input type=\"file\" id=\"files-76a54c32-7f8e-4467-af5f-98ad68072a66\" name=\"files[]\" multiple disabled\n",
              "        style=\"border:none\" />\n",
              "     <output id=\"result-76a54c32-7f8e-4467-af5f-98ad68072a66\">\n",
              "      Upload widget is only available when the cell has been executed in the\n",
              "      current browser session. Please rerun this cell to enable.\n",
              "      </output>\n",
              "      <script src=\"/nbextensions/google.colab/files.js\"></script> "
            ],
            "text/plain": [
              "<IPython.core.display.HTML object>"
            ]
          },
          "metadata": {
            "tags": []
          }
        },
        {
          "output_type": "stream",
          "text": [
            "Saving doc_1.xml to doc_1 (1).xml\n",
            "Saving doc_2.xml to doc_2 (1).xml\n",
            "Saving doc_3.xml to doc_3 (1).xml\n",
            "Saving doc_4.xml to doc_4 (1).xml\n",
            "Saving doc_5.xml to doc_5 (1).xml\n",
            "Saving info_Salvetti.xlsx to info_Salvetti (1).xlsx\n",
            "Saving topics.xlsx to topics (1).xlsx\n"
          ],
          "name": "stdout"
        }
      ]
    },
    {
      "cell_type": "code",
      "metadata": {
        "id": "qurv4bFtIS5c"
      },
      "source": [
        "tree=ET.parse('doc_4.xml')#Blocco che permette di leggere e creare una genialogia sul file XML\n",
        "root= tree.getroot()\n",
        "location=root.findall('newsFrom')"
      ],
      "execution_count": 64,
      "outputs": []
    },
    {
      "cell_type": "code",
      "metadata": {
        "id": "92VZ8X8yAJd2",
        "colab": {
          "base_uri": "https://localhost:8080/"
        },
        "outputId": "6ec0720e-58ef-41b1-b5bd-f45db3c1b238"
      },
      "source": [
        "for i in root:#Blocco che permette di vedere nella struttura a blocchi dei file XML\n",
        "  print(i.tag, i.attrib)"
      ],
      "execution_count": 65,
      "outputs": [
        {
          "output_type": "stream",
          "text": [
            "docid {}\n",
            "repository {}\n",
            "collection {}\n",
            "volume {}\n",
            "newsHeader {}\n"
          ],
          "name": "stdout"
        }
      ]
    },
    {
      "cell_type": "code",
      "metadata": {
        "id": "w92kcuRyDqU3"
      },
      "source": [
        "def person_doc(var): #Funzione che viene richiamata nel primo blocco principale, questa ci consente di trovare per ogni newsFrom i personaggi contenuti\n",
        "  doc_news=var\n",
        "  frms=doc_news.findall('.//newsFrom')#element.findall cerca tutti gli elementi con un tag che è direttamente figlio dell'elemento corrente\n",
        "  people_in_doc=[]\n",
        "  for frm in frms:\n",
        "     people_in_frm=[]\n",
        "     x=frm.findall('.//newsPeople')\n",
        "     for p_dc in x:\n",
        "      people_in_frm.append(p_dc.text)\n",
        "     people_in_doc.append(people_in_frm)\n",
        "  return(people_in_doc)"
      ],
      "execution_count": 66,
      "outputs": []
    },
    {
      "cell_type": "code",
      "metadata": {
        "id": "UMUt4NlFGC_d"
      },
      "source": [
        "def funz_edg(var2):#Funzione che richiamata ci permette di creare gli \"angoli\" del social network\n",
        "  f_network=var2\n",
        "  f_network=itertools.combinations(f_network,2)\n",
        "  for i in f_network:\n",
        "    edg.append(i)\n",
        "  return(edg)"
      ],
      "execution_count": 67,
      "outputs": []
    },
    {
      "cell_type": "code",
      "metadata": {
        "id": "qUPO5zeSIj-6",
        "colab": {
          "base_uri": "https://localhost:8080/",
          "height": 354
        },
        "outputId": "596b18db-58ba-447b-cb63-97b921882ad3"
      },
      "source": [
        "#Blocco principale in cui viene costruito il social network\n",
        "personaggi_net=person_doc(root)\n",
        "prsng_tot=[]\n",
        "for i in personaggi_net:\n",
        "  prsng_tot.append(list(sorted(set(i)))) \n",
        "lista_pers = sorted(set(sum(prsng_tot,[])))\n",
        "n_pers=len(lista_pers)#Calcolo delle persone nel documento\n",
        "edg=[]\n",
        "for i in prsng_tot:\n",
        "  funz_edg(i)\n",
        "\n",
        "network_documento=nx.Graph()#Blocco che crea il social network\n",
        "network_documento.add_nodes_from(lista_pers)\n",
        "network_documento.add_edges_from(edg)\n",
        "\n",
        "comp=nx.connected_components(network_documento)#Istruzioni per il calcolo dei cliques e dei components\n",
        "cliq=nx.find_cliques(network_documento)\n",
        "\n",
        "print('Personaggi presenti nel documento',n_pers)#Serie di stampa a schermo di valori connessi al network\n",
        "print('Clique del network:', len(list(cliq)))\n",
        "print('Densità del network:', nx.density(network_documento))\n",
        "print('Coefficiente medio di clustering:', nx.average_clustering(network_documento))\n",
        "print('Componenti connessi:', len(list(comp)))\n",
        "\n",
        "plt.title('Social network according with documentation',fontsize = 20)#Istruzioni della libreria per visualizzare il social network\n",
        "n_pers=nx.spring_layout(network_documento,k=2,scale=1, iterations=70)\n",
        "nx.draw(network_documento,n_pers,node_color='r')\n",
        "nx.draw_networkx_labels(network_documento,n_pers)\n",
        "plt.show()\n"
      ],
      "execution_count": 68,
      "outputs": [
        {
          "output_type": "stream",
          "text": [
            "Personaggi presenti nel documento 5\n",
            "Clique del network: 3\n",
            "Densità del network: 0.6\n",
            "Coefficiente medio di clustering: 0.6\n",
            "Componenti connessi: 1\n"
          ],
          "name": "stdout"
        },
        {
          "output_type": "display_data",
          "data": {
            "image/png": "[encoded data removed]",
            "text/plain": [
              "<Figure size 432x288 with 1 Axes>"
            ]
          },
          "metadata": {
            "tags": []
          }
        }
      ]
    },
    {
      "cell_type": "code",
      "metadata": {
        "id": "NsUUcyz48kuC",
        "colab": {
          "base_uri": "https://localhost:8080/"
        },
        "outputId": "738eac79-a11d-407b-8631-bd34fb9a228b"
      },
      "source": [
        "print('Network Pagerank del documento selezionato')#Serie di stampe di alcuni valori analizzati relativi al social network\n",
        "peso=nxa.pagerank(network_documento)#Le istruzioni presenti provengono dalla libreria networkx.algorithms\n",
        "sorted((v, f\"{c:0.2f}\") for v, c in peso.items())"
      ],
      "execution_count": 69,
      "outputs": [
        {
          "output_type": "stream",
          "text": [
            "Network Pagerank del documento selezionato\n"
          ],
          "name": "stdout"
        },
        {
          "output_type": "execute_result",
          "data": {
            "text/plain": [
              "[('Charles I Stuart', '0.24'),\n",
              " ('Charles II Stuart', '0.17'),\n",
              " ('English Parliament', '0.32'),\n",
              " ('Henriette-Marie de Bourbon-Stuart', '0.10'),\n",
              " ('Thomas Wentworth', '0.17')]"
            ]
          },
          "metadata": {
            "tags": []
          },
          "execution_count": 69
        }
      ]
    },
    {
      "cell_type": "code",
      "metadata": {
        "id": "Lorsf2548JLK",
        "colab": {
          "base_uri": "https://localhost:8080/"
        },
        "outputId": "88fab643-7731-43da-8040-30c0e4f541ca"
      },
      "source": [
        "print('Network closeness del documento selezionato')\n",
        "closeness=nxa.closeness_centrality(network_documento)\n",
        "sorted((v, f\"{c:0.2f}\") for v, c in closeness.items())"
      ],
      "execution_count": 70,
      "outputs": [
        {
          "output_type": "stream",
          "text": [
            "Network closeness del documento selezionato\n"
          ],
          "name": "stdout"
        },
        {
          "output_type": "execute_result",
          "data": {
            "text/plain": [
              "[('Charles I Stuart', '0.80'),\n",
              " ('Charles II Stuart', '0.67'),\n",
              " ('English Parliament', '1.00'),\n",
              " ('Henriette-Marie de Bourbon-Stuart', '0.57'),\n",
              " ('Thomas Wentworth', '0.67')]"
            ]
          },
          "metadata": {
            "tags": []
          },
          "execution_count": 70
        }
      ]
    },
    {
      "cell_type": "code",
      "metadata": {
        "id": "cWeHDlC89L9H",
        "colab": {
          "base_uri": "https://localhost:8080/"
        },
        "outputId": "32c382ab-8413-4f63-e995-8f771536107b"
      },
      "source": [
        "print('Diametro Network del documento selezionato')\n",
        "print(nx.diameter(network_documento))"
      ],
      "execution_count": 71,
      "outputs": [
        {
          "output_type": "stream",
          "text": [
            "Diametro Network del documento selezionato\n",
            "2\n"
          ],
          "name": "stdout"
        }
      ]
    },
    {
      "cell_type": "code",
      "metadata": {
        "id": "3Z5NrEEOJs9w",
        "colab": {
          "base_uri": "https://localhost:8080/"
        },
        "outputId": "77a85001-7efe-46dc-e86f-65b7d4a062fd"
      },
      "source": [
        "print('Network degree del documento selezionato')\n",
        "degree=nxa.degree_centrality(network_documento)\n",
        "sorted((v, f\"{c:0.2f}\") for v, c in degree.items()) "
      ],
      "execution_count": 72,
      "outputs": [
        {
          "output_type": "stream",
          "text": [
            "Network degree del documento selezionato\n"
          ],
          "name": "stdout"
        },
        {
          "output_type": "execute_result",
          "data": {
            "text/plain": [
              "[('Charles I Stuart', '0.75'),\n",
              " ('Charles II Stuart', '0.50'),\n",
              " ('English Parliament', '1.00'),\n",
              " ('Henriette-Marie de Bourbon-Stuart', '0.25'),\n",
              " ('Thomas Wentworth', '0.50')]"
            ]
          },
          "metadata": {
            "tags": []
          },
          "execution_count": 72
        }
      ]
    },
    {
      "cell_type": "code",
      "metadata": {
        "id": "rMT1OKpOxHy5"
      },
      "source": [
        "#Blocco per estrarre e inserire in liste i luoghi presenti nel documento, i Topics e le persone.\n",
        "luoghi=[]\n",
        "for item in root.iter('from'):#Istruzione che scorre il documento alla ricerca dei luoghi\n",
        "  luoghi.append(item.text)#Istruzione che inserisce l'elemento trovato nella lista\n",
        "  argomenti=[]\n",
        "for item in root.iter('newsTopic'):#Istruzione che scorre il documento alla ricerca dei topic\n",
        "  argomenti.append(item.text)#Istruzione che inserisce l'elemento trovato nella lista\n",
        "personaggi1=[]\n",
        "for item in root.iter('newsPeople'):#Istruzione che scorre il documento alla ricerca dei Personaggi\n",
        "  personaggi1.append(item.text)#Istruzione che inserisce l'elemento trovato nella lista\n"
      ],
      "execution_count": 73,
      "outputs": []
    },
    {
      "cell_type": "code",
      "metadata": {
        "id": "guP5S-TNXDky",
        "colab": {
          "base_uri": "https://localhost:8080/",
          "height": 142
        },
        "outputId": "6448ba7e-a8f1-4ab6-8c45-8f68538f0cdf"
      },
      "source": [
        "#Blocco per costruire una tabella che ci permette di vedere quante volte un singolo luogo è presente nel documento\n",
        "df=pd.DataFrame(luoghi, columns=['Luoghi']) \n",
        "df=df.groupby(['Luoghi']).size().reset_index(name=\"Volte\")#questa istruzione permette di raggruppare i luoghi in relazione al numero di volte che compaiono\n",
        "df"
      ],
      "execution_count": 74,
      "outputs": [
        {
          "output_type": "execute_result",
          "data": {
            "text/html": [
              "<div>\n",
              "<style scoped>\n",
              "    .dataframe tbody tr th:only-of-type {\n",
              "        vertical-align: middle;\n",
              "    }\n",
              "\n",
              "    .dataframe tbody tr th {\n",
              "        vertical-align: top;\n",
              "    }\n",
              "\n",
              "    .dataframe thead th {\n",
              "        text-align: right;\n",
              "    }\n",
              "</style>\n",
              "<table border=\"1\" class=\"dataframe\">\n",
              "  <thead>\n",
              "    <tr style=\"text-align: right;\">\n",
              "      <th></th>\n",
              "      <th>Luoghi</th>\n",
              "      <th>Volte</th>\n",
              "    </tr>\n",
              "  </thead>\n",
              "  <tbody>\n",
              "    <tr>\n",
              "      <th>0</th>\n",
              "      <td>London</td>\n",
              "      <td>3</td>\n",
              "    </tr>\n",
              "    <tr>\n",
              "      <th>1</th>\n",
              "      <td>London Tower</td>\n",
              "      <td>1</td>\n",
              "    </tr>\n",
              "    <tr>\n",
              "      <th>2</th>\n",
              "      <td>Palace of Westminster</td>\n",
              "      <td>4</td>\n",
              "    </tr>\n",
              "  </tbody>\n",
              "</table>\n",
              "</div>"
            ],
            "text/plain": [
              "                  Luoghi  Volte\n",
              "0                 London      3\n",
              "1           London Tower      1\n",
              "2  Palace of Westminster      4"
            ]
          },
          "metadata": {
            "tags": []
          },
          "execution_count": 74
        }
      ]
    },
    {
      "cell_type": "code",
      "metadata": {
        "id": "bolzYUlgXSgo",
        "colab": {
          "base_uri": "https://localhost:8080/",
          "height": 235
        },
        "outputId": "6f4b256b-959a-4180-ac53-234dcd14527a"
      },
      "source": [
        "#Blocco per costruire una tabella che ci permette di vedere quante volte un singolo Topic è presente nel documento\n",
        "df=pd.DataFrame(argomenti, columns=['Topics'])#L'istruzione proviene dalla libreria Panda\n",
        "df=df.groupby(['Topics']).size().reset_index(name=\"Volte\")#questa istruzione permette di raggruppare i Topic in relazione al numero di volte che compaiono\n",
        "df"
      ],
      "execution_count": 75,
      "outputs": [
        {
          "output_type": "execute_result",
          "data": {
            "text/html": [
              "<div>\n",
              "<style scoped>\n",
              "    .dataframe tbody tr th:only-of-type {\n",
              "        vertical-align: middle;\n",
              "    }\n",
              "\n",
              "    .dataframe tbody tr th {\n",
              "        vertical-align: top;\n",
              "    }\n",
              "\n",
              "    .dataframe thead th {\n",
              "        text-align: right;\n",
              "    }\n",
              "</style>\n",
              "<table border=\"1\" class=\"dataframe\">\n",
              "  <thead>\n",
              "    <tr style=\"text-align: right;\">\n",
              "      <th></th>\n",
              "      <th>Topics</th>\n",
              "      <th>Volte</th>\n",
              "    </tr>\n",
              "  </thead>\n",
              "  <tbody>\n",
              "    <tr>\n",
              "      <th>0</th>\n",
              "      <td>Government</td>\n",
              "      <td>1</td>\n",
              "    </tr>\n",
              "    <tr>\n",
              "      <th>1</th>\n",
              "      <td>Health</td>\n",
              "      <td>1</td>\n",
              "    </tr>\n",
              "    <tr>\n",
              "      <th>2</th>\n",
              "      <td>Law and Order</td>\n",
              "      <td>1</td>\n",
              "    </tr>\n",
              "    <tr>\n",
              "      <th>3</th>\n",
              "      <td>Movement</td>\n",
              "      <td>1</td>\n",
              "    </tr>\n",
              "    <tr>\n",
              "      <th>4</th>\n",
              "      <td>Politics</td>\n",
              "      <td>6</td>\n",
              "    </tr>\n",
              "    <tr>\n",
              "      <th>5</th>\n",
              "      <td>Religion</td>\n",
              "      <td>1</td>\n",
              "    </tr>\n",
              "  </tbody>\n",
              "</table>\n",
              "</div>"
            ],
            "text/plain": [
              "          Topics  Volte\n",
              "0     Government      1\n",
              "1         Health      1\n",
              "2  Law and Order      1\n",
              "3       Movement      1\n",
              "4       Politics      6\n",
              "5       Religion      1"
            ]
          },
          "metadata": {
            "tags": []
          },
          "execution_count": 75
        }
      ]
    },
    {
      "cell_type": "code",
      "metadata": {
        "id": "VsuykAwMzWch",
        "colab": {
          "base_uri": "https://localhost:8080/",
          "height": 204
        },
        "outputId": "bf20adf9-304f-4c4f-aed3-5732040f92ec"
      },
      "source": [
        "#Blocco per costruire una tabella che ci permette di vedere quante volte un singolo Topic è presente nel documento\n",
        "df=pd.DataFrame(personaggi1, columns=['Personaggi'])\n",
        "df=df.groupby(['Personaggi']).size().reset_index(name=\"Volte\")#questa istruzione permette di raggruppare i personaggi in relazione al numero di volte che compaiono\n",
        "df"
      ],
      "execution_count": 76,
      "outputs": [
        {
          "output_type": "execute_result",
          "data": {
            "text/html": [
              "<div>\n",
              "<style scoped>\n",
              "    .dataframe tbody tr th:only-of-type {\n",
              "        vertical-align: middle;\n",
              "    }\n",
              "\n",
              "    .dataframe tbody tr th {\n",
              "        vertical-align: top;\n",
              "    }\n",
              "\n",
              "    .dataframe thead th {\n",
              "        text-align: right;\n",
              "    }\n",
              "</style>\n",
              "<table border=\"1\" class=\"dataframe\">\n",
              "  <thead>\n",
              "    <tr style=\"text-align: right;\">\n",
              "      <th></th>\n",
              "      <th>Personaggi</th>\n",
              "      <th>Volte</th>\n",
              "    </tr>\n",
              "  </thead>\n",
              "  <tbody>\n",
              "    <tr>\n",
              "      <th>0</th>\n",
              "      <td>Charles I Stuart</td>\n",
              "      <td>3</td>\n",
              "    </tr>\n",
              "    <tr>\n",
              "      <th>1</th>\n",
              "      <td>Charles II Stuart</td>\n",
              "      <td>1</td>\n",
              "    </tr>\n",
              "    <tr>\n",
              "      <th>2</th>\n",
              "      <td>English Parliament</td>\n",
              "      <td>6</td>\n",
              "    </tr>\n",
              "    <tr>\n",
              "      <th>3</th>\n",
              "      <td>Henriette-Marie de Bourbon-Stuart</td>\n",
              "      <td>1</td>\n",
              "    </tr>\n",
              "    <tr>\n",
              "      <th>4</th>\n",
              "      <td>Thomas Wentworth</td>\n",
              "      <td>1</td>\n",
              "    </tr>\n",
              "  </tbody>\n",
              "</table>\n",
              "</div>"
            ],
            "text/plain": [
              "                          Personaggi  Volte\n",
              "0                   Charles I Stuart      3\n",
              "1                  Charles II Stuart      1\n",
              "2                 English Parliament      6\n",
              "3  Henriette-Marie de Bourbon-Stuart      1\n",
              "4                   Thomas Wentworth      1"
            ]
          },
          "metadata": {
            "tags": []
          },
          "execution_count": 76
        }
      ]
    },
    {
      "cell_type": "code",
      "metadata": {
        "id": "ypkOnrymfglJ",
        "colab": {
          "base_uri": "https://localhost:8080/",
          "height": 1000
        },
        "outputId": "6f0ce528-90d7-42a1-884b-8cb372179a7d"
      },
      "source": [
        "#Blocco che ci consente di assegnare il file XLSX ad una variabile e visualizzarlo come tabella\n",
        "upload=\"/content/info_Salvetti.xlsx\"\n",
        "table_salvetti=pd.read_excel(upload)\n",
        "table_salvetti "
      ],
      "execution_count": 77,
      "outputs": [
        {
          "output_type": "execute_result",
          "data": {
            "text/html": [
              "<div>\n",
              "<style scoped>\n",
              "    .dataframe tbody tr th:only-of-type {\n",
              "        vertical-align: middle;\n",
              "    }\n",
              "\n",
              "    .dataframe tbody tr th {\n",
              "        vertical-align: top;\n",
              "    }\n",
              "\n",
              "    .dataframe thead th {\n",
              "        text-align: right;\n",
              "    }\n",
              "</style>\n",
              "<table border=\"1\" class=\"dataframe\">\n",
              "  <thead>\n",
              "    <tr style=\"text-align: right;\">\n",
              "      <th></th>\n",
              "      <th>Personaggio di riferimento</th>\n",
              "      <th>Charles I Stuart</th>\n",
              "      <th>Henriette Maria De Bourbon-Stuart</th>\n",
              "      <th>Maria de' Medici De Bourbon-Stuart</th>\n",
              "      <th>English Parliament</th>\n",
              "      <th>Scottish Parliament</th>\n",
              "      <th>Giovanni Giustinian</th>\n",
              "      <th>Maurice von der Pfalz</th>\n",
              "      <th>Rupert von der Pfalz</th>\n",
              "      <th>Williem II van Oranje-Nassau</th>\n",
              "      <th>Thomas Wentworth</th>\n",
              "      <th>Charles II Stuart</th>\n",
              "      <th>Robert Devereux</th>\n",
              "      <th>Henry Rich</th>\n",
              "      <th>John Digby</th>\n",
              "      <th>William I Cavendish</th>\n",
              "      <th>Robert Rich</th>\n",
              "      <th>Mary Henriette</th>\n",
              "      <th>James II Stuart</th>\n",
              "      <th>Herry Montagu</th>\n",
              "      <th>Ralph Hopton</th>\n",
              "      <th>Lucius Cary</th>\n",
              "      <th>William Cecil</th>\n",
              "    </tr>\n",
              "  </thead>\n",
              "  <tbody>\n",
              "    <tr>\n",
              "      <th>0</th>\n",
              "      <td>Charles I Stuart</td>\n",
              "      <td>0</td>\n",
              "      <td>71</td>\n",
              "      <td>39</td>\n",
              "      <td>102</td>\n",
              "      <td>26</td>\n",
              "      <td>5</td>\n",
              "      <td>44</td>\n",
              "      <td>9</td>\n",
              "      <td>6</td>\n",
              "      <td>6</td>\n",
              "      <td>7</td>\n",
              "      <td>11</td>\n",
              "      <td>9</td>\n",
              "      <td>6</td>\n",
              "      <td>14</td>\n",
              "      <td>17</td>\n",
              "      <td>2</td>\n",
              "      <td>6</td>\n",
              "      <td>6</td>\n",
              "      <td>18</td>\n",
              "      <td>14</td>\n",
              "      <td>20</td>\n",
              "    </tr>\n",
              "    <tr>\n",
              "      <th>1</th>\n",
              "      <td>Henriette Maria De Bourbon-Stuart</td>\n",
              "      <td>71</td>\n",
              "      <td>0</td>\n",
              "      <td>21</td>\n",
              "      <td>43</td>\n",
              "      <td>11</td>\n",
              "      <td>0</td>\n",
              "      <td>0</td>\n",
              "      <td>1</td>\n",
              "      <td>7</td>\n",
              "      <td>0</td>\n",
              "      <td>9</td>\n",
              "      <td>0</td>\n",
              "      <td>0</td>\n",
              "      <td>0</td>\n",
              "      <td>0</td>\n",
              "      <td>0</td>\n",
              "      <td>0</td>\n",
              "      <td>4</td>\n",
              "      <td>0</td>\n",
              "      <td>0</td>\n",
              "      <td>0</td>\n",
              "      <td>0</td>\n",
              "    </tr>\n",
              "    <tr>\n",
              "      <th>2</th>\n",
              "      <td>Maria de' Medici De Bourbon-Stuart</td>\n",
              "      <td>39</td>\n",
              "      <td>21</td>\n",
              "      <td>0</td>\n",
              "      <td>20</td>\n",
              "      <td>2</td>\n",
              "      <td>1</td>\n",
              "      <td>0</td>\n",
              "      <td>0</td>\n",
              "      <td>1</td>\n",
              "      <td>0</td>\n",
              "      <td>0</td>\n",
              "      <td>0</td>\n",
              "      <td>0</td>\n",
              "      <td>0</td>\n",
              "      <td>0</td>\n",
              "      <td>0</td>\n",
              "      <td>0</td>\n",
              "      <td>0</td>\n",
              "      <td>0</td>\n",
              "      <td>0</td>\n",
              "      <td>0</td>\n",
              "      <td>0</td>\n",
              "    </tr>\n",
              "    <tr>\n",
              "      <th>3</th>\n",
              "      <td>English Parliament</td>\n",
              "      <td>102</td>\n",
              "      <td>43</td>\n",
              "      <td>20</td>\n",
              "      <td>0</td>\n",
              "      <td>24</td>\n",
              "      <td>7</td>\n",
              "      <td>9</td>\n",
              "      <td>7</td>\n",
              "      <td>0</td>\n",
              "      <td>6</td>\n",
              "      <td>4</td>\n",
              "      <td>94</td>\n",
              "      <td>61</td>\n",
              "      <td>42</td>\n",
              "      <td>39</td>\n",
              "      <td>27</td>\n",
              "      <td>3</td>\n",
              "      <td>4</td>\n",
              "      <td>27</td>\n",
              "      <td>19</td>\n",
              "      <td>9</td>\n",
              "      <td>14</td>\n",
              "    </tr>\n",
              "    <tr>\n",
              "      <th>4</th>\n",
              "      <td>Scottish Parliament</td>\n",
              "      <td>26</td>\n",
              "      <td>11</td>\n",
              "      <td>2</td>\n",
              "      <td>24</td>\n",
              "      <td>0</td>\n",
              "      <td>2</td>\n",
              "      <td>0</td>\n",
              "      <td>0</td>\n",
              "      <td>0</td>\n",
              "      <td>0</td>\n",
              "      <td>7</td>\n",
              "      <td>9</td>\n",
              "      <td>2</td>\n",
              "      <td>2</td>\n",
              "      <td>0</td>\n",
              "      <td>4</td>\n",
              "      <td>0</td>\n",
              "      <td>3</td>\n",
              "      <td>2</td>\n",
              "      <td>4</td>\n",
              "      <td>1</td>\n",
              "      <td>2</td>\n",
              "    </tr>\n",
              "    <tr>\n",
              "      <th>5</th>\n",
              "      <td>Giovanni Giustinian</td>\n",
              "      <td>5</td>\n",
              "      <td>0</td>\n",
              "      <td>1</td>\n",
              "      <td>7</td>\n",
              "      <td>2</td>\n",
              "      <td>0</td>\n",
              "      <td>0</td>\n",
              "      <td>0</td>\n",
              "      <td>0</td>\n",
              "      <td>0</td>\n",
              "      <td>0</td>\n",
              "      <td>2</td>\n",
              "      <td>0</td>\n",
              "      <td>0</td>\n",
              "      <td>0</td>\n",
              "      <td>0</td>\n",
              "      <td>0</td>\n",
              "      <td>0</td>\n",
              "      <td>0</td>\n",
              "      <td>0</td>\n",
              "      <td>0</td>\n",
              "      <td>0</td>\n",
              "    </tr>\n",
              "    <tr>\n",
              "      <th>6</th>\n",
              "      <td>Maurice von der Pfalz</td>\n",
              "      <td>44</td>\n",
              "      <td>0</td>\n",
              "      <td>0</td>\n",
              "      <td>9</td>\n",
              "      <td>0</td>\n",
              "      <td>0</td>\n",
              "      <td>0</td>\n",
              "      <td>6</td>\n",
              "      <td>0</td>\n",
              "      <td>0</td>\n",
              "      <td>0</td>\n",
              "      <td>6</td>\n",
              "      <td>4</td>\n",
              "      <td>9</td>\n",
              "      <td>0</td>\n",
              "      <td>0</td>\n",
              "      <td>0</td>\n",
              "      <td>0</td>\n",
              "      <td>9</td>\n",
              "      <td>7</td>\n",
              "      <td>0</td>\n",
              "      <td>4</td>\n",
              "    </tr>\n",
              "    <tr>\n",
              "      <th>7</th>\n",
              "      <td>Rupert von der Pfalz</td>\n",
              "      <td>9</td>\n",
              "      <td>1</td>\n",
              "      <td>0</td>\n",
              "      <td>7</td>\n",
              "      <td>0</td>\n",
              "      <td>0</td>\n",
              "      <td>4</td>\n",
              "      <td>0</td>\n",
              "      <td>0</td>\n",
              "      <td>0</td>\n",
              "      <td>0</td>\n",
              "      <td>0</td>\n",
              "      <td>4</td>\n",
              "      <td>0</td>\n",
              "      <td>0</td>\n",
              "      <td>0</td>\n",
              "      <td>0</td>\n",
              "      <td>0</td>\n",
              "      <td>6</td>\n",
              "      <td>0</td>\n",
              "      <td>0</td>\n",
              "      <td>2</td>\n",
              "    </tr>\n",
              "    <tr>\n",
              "      <th>8</th>\n",
              "      <td>Williem II van Oranje-Nassau</td>\n",
              "      <td>6</td>\n",
              "      <td>7</td>\n",
              "      <td>1</td>\n",
              "      <td>0</td>\n",
              "      <td>0</td>\n",
              "      <td>0</td>\n",
              "      <td>0</td>\n",
              "      <td>0</td>\n",
              "      <td>0</td>\n",
              "      <td>0</td>\n",
              "      <td>0</td>\n",
              "      <td>0</td>\n",
              "      <td>0</td>\n",
              "      <td>0</td>\n",
              "      <td>0</td>\n",
              "      <td>0</td>\n",
              "      <td>12</td>\n",
              "      <td>6</td>\n",
              "      <td>0</td>\n",
              "      <td>0</td>\n",
              "      <td>0</td>\n",
              "      <td>0</td>\n",
              "    </tr>\n",
              "    <tr>\n",
              "      <th>9</th>\n",
              "      <td>Thomas Wentworth</td>\n",
              "      <td>6</td>\n",
              "      <td>0</td>\n",
              "      <td>0</td>\n",
              "      <td>6</td>\n",
              "      <td>0</td>\n",
              "      <td>0</td>\n",
              "      <td>0</td>\n",
              "      <td>0</td>\n",
              "      <td>0</td>\n",
              "      <td>0</td>\n",
              "      <td>0</td>\n",
              "      <td>0</td>\n",
              "      <td>0</td>\n",
              "      <td>0</td>\n",
              "      <td>0</td>\n",
              "      <td>0</td>\n",
              "      <td>0</td>\n",
              "      <td>0</td>\n",
              "      <td>0</td>\n",
              "      <td>0</td>\n",
              "      <td>0</td>\n",
              "      <td>0</td>\n",
              "    </tr>\n",
              "    <tr>\n",
              "      <th>10</th>\n",
              "      <td>Charles II Stuart</td>\n",
              "      <td>7</td>\n",
              "      <td>9</td>\n",
              "      <td>0</td>\n",
              "      <td>4</td>\n",
              "      <td>7</td>\n",
              "      <td>0</td>\n",
              "      <td>0</td>\n",
              "      <td>0</td>\n",
              "      <td>1</td>\n",
              "      <td>0</td>\n",
              "      <td>0</td>\n",
              "      <td>2</td>\n",
              "      <td>0</td>\n",
              "      <td>0</td>\n",
              "      <td>0</td>\n",
              "      <td>0</td>\n",
              "      <td>4</td>\n",
              "      <td>2</td>\n",
              "      <td>0</td>\n",
              "      <td>0</td>\n",
              "      <td>0</td>\n",
              "      <td>0</td>\n",
              "    </tr>\n",
              "    <tr>\n",
              "      <th>11</th>\n",
              "      <td>Robert Devereux</td>\n",
              "      <td>11</td>\n",
              "      <td>0</td>\n",
              "      <td>0</td>\n",
              "      <td>94</td>\n",
              "      <td>9</td>\n",
              "      <td>2</td>\n",
              "      <td>6</td>\n",
              "      <td>0</td>\n",
              "      <td>0</td>\n",
              "      <td>0</td>\n",
              "      <td>2</td>\n",
              "      <td>0</td>\n",
              "      <td>9</td>\n",
              "      <td>4</td>\n",
              "      <td>7</td>\n",
              "      <td>5</td>\n",
              "      <td>0</td>\n",
              "      <td>2</td>\n",
              "      <td>2</td>\n",
              "      <td>0</td>\n",
              "      <td>4</td>\n",
              "      <td>1</td>\n",
              "    </tr>\n",
              "    <tr>\n",
              "      <th>12</th>\n",
              "      <td>Henry Rich</td>\n",
              "      <td>9</td>\n",
              "      <td>0</td>\n",
              "      <td>0</td>\n",
              "      <td>61</td>\n",
              "      <td>2</td>\n",
              "      <td>0</td>\n",
              "      <td>4</td>\n",
              "      <td>4</td>\n",
              "      <td>0</td>\n",
              "      <td>0</td>\n",
              "      <td>0</td>\n",
              "      <td>9</td>\n",
              "      <td>0</td>\n",
              "      <td>4</td>\n",
              "      <td>6</td>\n",
              "      <td>7</td>\n",
              "      <td>1</td>\n",
              "      <td>1</td>\n",
              "      <td>1</td>\n",
              "      <td>2</td>\n",
              "      <td>6</td>\n",
              "      <td>6</td>\n",
              "    </tr>\n",
              "    <tr>\n",
              "      <th>13</th>\n",
              "      <td>John Digby</td>\n",
              "      <td>6</td>\n",
              "      <td>0</td>\n",
              "      <td>0</td>\n",
              "      <td>42</td>\n",
              "      <td>2</td>\n",
              "      <td>0</td>\n",
              "      <td>9</td>\n",
              "      <td>0</td>\n",
              "      <td>0</td>\n",
              "      <td>0</td>\n",
              "      <td>0</td>\n",
              "      <td>4</td>\n",
              "      <td>4</td>\n",
              "      <td>0</td>\n",
              "      <td>4</td>\n",
              "      <td>7</td>\n",
              "      <td>2</td>\n",
              "      <td>1</td>\n",
              "      <td>6</td>\n",
              "      <td>7</td>\n",
              "      <td>6</td>\n",
              "      <td>2</td>\n",
              "    </tr>\n",
              "    <tr>\n",
              "      <th>14</th>\n",
              "      <td>William I Cavendish</td>\n",
              "      <td>14</td>\n",
              "      <td>0</td>\n",
              "      <td>0</td>\n",
              "      <td>39</td>\n",
              "      <td>0</td>\n",
              "      <td>0</td>\n",
              "      <td>0</td>\n",
              "      <td>0</td>\n",
              "      <td>0</td>\n",
              "      <td>0</td>\n",
              "      <td>0</td>\n",
              "      <td>7</td>\n",
              "      <td>6</td>\n",
              "      <td>4</td>\n",
              "      <td>0</td>\n",
              "      <td>2</td>\n",
              "      <td>1</td>\n",
              "      <td>0</td>\n",
              "      <td>2</td>\n",
              "      <td>6</td>\n",
              "      <td>11</td>\n",
              "      <td>14</td>\n",
              "    </tr>\n",
              "    <tr>\n",
              "      <th>15</th>\n",
              "      <td>Robert Rich</td>\n",
              "      <td>17</td>\n",
              "      <td>0</td>\n",
              "      <td>0</td>\n",
              "      <td>27</td>\n",
              "      <td>4</td>\n",
              "      <td>0</td>\n",
              "      <td>0</td>\n",
              "      <td>0</td>\n",
              "      <td>0</td>\n",
              "      <td>0</td>\n",
              "      <td>0</td>\n",
              "      <td>5</td>\n",
              "      <td>7</td>\n",
              "      <td>7</td>\n",
              "      <td>2</td>\n",
              "      <td>0</td>\n",
              "      <td>0</td>\n",
              "      <td>0</td>\n",
              "      <td>1</td>\n",
              "      <td>1</td>\n",
              "      <td>0</td>\n",
              "      <td>0</td>\n",
              "    </tr>\n",
              "    <tr>\n",
              "      <th>16</th>\n",
              "      <td>Mary Henriette</td>\n",
              "      <td>2</td>\n",
              "      <td>0</td>\n",
              "      <td>0</td>\n",
              "      <td>3</td>\n",
              "      <td>0</td>\n",
              "      <td>0</td>\n",
              "      <td>0</td>\n",
              "      <td>0</td>\n",
              "      <td>12</td>\n",
              "      <td>0</td>\n",
              "      <td>4</td>\n",
              "      <td>0</td>\n",
              "      <td>1</td>\n",
              "      <td>2</td>\n",
              "      <td>1</td>\n",
              "      <td>0</td>\n",
              "      <td>0</td>\n",
              "      <td>6</td>\n",
              "      <td>0</td>\n",
              "      <td>2</td>\n",
              "      <td>0</td>\n",
              "      <td>0</td>\n",
              "    </tr>\n",
              "    <tr>\n",
              "      <th>17</th>\n",
              "      <td>James II Stuart</td>\n",
              "      <td>6</td>\n",
              "      <td>4</td>\n",
              "      <td>0</td>\n",
              "      <td>4</td>\n",
              "      <td>3</td>\n",
              "      <td>0</td>\n",
              "      <td>0</td>\n",
              "      <td>0</td>\n",
              "      <td>6</td>\n",
              "      <td>0</td>\n",
              "      <td>2</td>\n",
              "      <td>2</td>\n",
              "      <td>1</td>\n",
              "      <td>1</td>\n",
              "      <td>0</td>\n",
              "      <td>0</td>\n",
              "      <td>6</td>\n",
              "      <td>0</td>\n",
              "      <td>7</td>\n",
              "      <td>4</td>\n",
              "      <td>0</td>\n",
              "      <td>4</td>\n",
              "    </tr>\n",
              "    <tr>\n",
              "      <th>18</th>\n",
              "      <td>Herry Montagu</td>\n",
              "      <td>6</td>\n",
              "      <td>0</td>\n",
              "      <td>0</td>\n",
              "      <td>27</td>\n",
              "      <td>2</td>\n",
              "      <td>0</td>\n",
              "      <td>9</td>\n",
              "      <td>6</td>\n",
              "      <td>0</td>\n",
              "      <td>0</td>\n",
              "      <td>0</td>\n",
              "      <td>2</td>\n",
              "      <td>1</td>\n",
              "      <td>6</td>\n",
              "      <td>2</td>\n",
              "      <td>1</td>\n",
              "      <td>0</td>\n",
              "      <td>7</td>\n",
              "      <td>0</td>\n",
              "      <td>6</td>\n",
              "      <td>4</td>\n",
              "      <td>2</td>\n",
              "    </tr>\n",
              "    <tr>\n",
              "      <th>19</th>\n",
              "      <td>Ralph Hopton</td>\n",
              "      <td>18</td>\n",
              "      <td>0</td>\n",
              "      <td>0</td>\n",
              "      <td>19</td>\n",
              "      <td>4</td>\n",
              "      <td>0</td>\n",
              "      <td>7</td>\n",
              "      <td>0</td>\n",
              "      <td>0</td>\n",
              "      <td>0</td>\n",
              "      <td>0</td>\n",
              "      <td>0</td>\n",
              "      <td>2</td>\n",
              "      <td>7</td>\n",
              "      <td>6</td>\n",
              "      <td>1</td>\n",
              "      <td>2</td>\n",
              "      <td>4</td>\n",
              "      <td>6</td>\n",
              "      <td>0</td>\n",
              "      <td>6</td>\n",
              "      <td>7</td>\n",
              "    </tr>\n",
              "    <tr>\n",
              "      <th>20</th>\n",
              "      <td>Lucius Cary</td>\n",
              "      <td>14</td>\n",
              "      <td>0</td>\n",
              "      <td>0</td>\n",
              "      <td>9</td>\n",
              "      <td>1</td>\n",
              "      <td>0</td>\n",
              "      <td>0</td>\n",
              "      <td>0</td>\n",
              "      <td>0</td>\n",
              "      <td>0</td>\n",
              "      <td>0</td>\n",
              "      <td>4</td>\n",
              "      <td>6</td>\n",
              "      <td>6</td>\n",
              "      <td>11</td>\n",
              "      <td>0</td>\n",
              "      <td>0</td>\n",
              "      <td>0</td>\n",
              "      <td>4</td>\n",
              "      <td>6</td>\n",
              "      <td>0</td>\n",
              "      <td>2</td>\n",
              "    </tr>\n",
              "    <tr>\n",
              "      <th>21</th>\n",
              "      <td>William Cecil</td>\n",
              "      <td>20</td>\n",
              "      <td>0</td>\n",
              "      <td>0</td>\n",
              "      <td>14</td>\n",
              "      <td>2</td>\n",
              "      <td>0</td>\n",
              "      <td>4</td>\n",
              "      <td>2</td>\n",
              "      <td>0</td>\n",
              "      <td>0</td>\n",
              "      <td>0</td>\n",
              "      <td>1</td>\n",
              "      <td>6</td>\n",
              "      <td>2</td>\n",
              "      <td>14</td>\n",
              "      <td>0</td>\n",
              "      <td>0</td>\n",
              "      <td>4</td>\n",
              "      <td>2</td>\n",
              "      <td>7</td>\n",
              "      <td>2</td>\n",
              "      <td>0</td>\n",
              "    </tr>\n",
              "  </tbody>\n",
              "</table>\n",
              "</div>"
            ],
            "text/plain": [
              "            Personaggio di riferimento  ...  William Cecil\n",
              "0                     Charles I Stuart  ...             20\n",
              "1    Henriette Maria De Bourbon-Stuart  ...              0\n",
              "2   Maria de' Medici De Bourbon-Stuart  ...              0\n",
              "3                   English Parliament  ...             14\n",
              "4                  Scottish Parliament  ...              2\n",
              "5                  Giovanni Giustinian  ...              0\n",
              "6                Maurice von der Pfalz  ...              4\n",
              "7                 Rupert von der Pfalz  ...              2\n",
              "8         Williem II van Oranje-Nassau  ...              0\n",
              "9                     Thomas Wentworth  ...              0\n",
              "10                   Charles II Stuart  ...              0\n",
              "11                     Robert Devereux  ...              1\n",
              "12                          Henry Rich  ...              6\n",
              "13                          John Digby  ...              2\n",
              "14                 William I Cavendish  ...             14\n",
              "15                         Robert Rich  ...              0\n",
              "16                      Mary Henriette  ...              0\n",
              "17                     James II Stuart  ...              4\n",
              "18                       Herry Montagu  ...              2\n",
              "19                        Ralph Hopton  ...              7\n",
              "20                         Lucius Cary  ...              2\n",
              "21                       William Cecil  ...              0\n",
              "\n",
              "[22 rows x 23 columns]"
            ]
          },
          "metadata": {
            "tags": []
          },
          "execution_count": 77
        }
      ]
    },
    {
      "cell_type": "code",
      "metadata": {
        "id": "43JRR8e7mi0I",
        "colab": {
          "base_uri": "https://localhost:8080/",
          "height": 419
        },
        "outputId": "03d8da9e-bee3-45eb-d233-21a8d9449937"
      },
      "source": [
        "#Blocco che riformula la tabella in maniera da poter utilizzare le colonne direttamente come gli elementi fondanti del network che andremo a creare\n",
        "norm_salvetti= pd.melt(table_salvetti, id_vars=['Personaggio di riferimento'], var_name='P. incontrato', value_name='Numero di volte')\n",
        "norm_salvetti "
      ],
      "execution_count": 78,
      "outputs": [
        {
          "output_type": "execute_result",
          "data": {
            "text/html": [
              "<div>\n",
              "<style scoped>\n",
              "    .dataframe tbody tr th:only-of-type {\n",
              "        vertical-align: middle;\n",
              "    }\n",
              "\n",
              "    .dataframe tbody tr th {\n",
              "        vertical-align: top;\n",
              "    }\n",
              "\n",
              "    .dataframe thead th {\n",
              "        text-align: right;\n",
              "    }\n",
              "</style>\n",
              "<table border=\"1\" class=\"dataframe\">\n",
              "  <thead>\n",
              "    <tr style=\"text-align: right;\">\n",
              "      <th></th>\n",
              "      <th>Personaggio di riferimento</th>\n",
              "      <th>P. incontrato</th>\n",
              "      <th>Numero di volte</th>\n",
              "    </tr>\n",
              "  </thead>\n",
              "  <tbody>\n",
              "    <tr>\n",
              "      <th>0</th>\n",
              "      <td>Charles I Stuart</td>\n",
              "      <td>Charles I Stuart</td>\n",
              "      <td>0</td>\n",
              "    </tr>\n",
              "    <tr>\n",
              "      <th>1</th>\n",
              "      <td>Henriette Maria De Bourbon-Stuart</td>\n",
              "      <td>Charles I Stuart</td>\n",
              "      <td>71</td>\n",
              "    </tr>\n",
              "    <tr>\n",
              "      <th>2</th>\n",
              "      <td>Maria de' Medici De Bourbon-Stuart</td>\n",
              "      <td>Charles I Stuart</td>\n",
              "      <td>39</td>\n",
              "    </tr>\n",
              "    <tr>\n",
              "      <th>3</th>\n",
              "      <td>English Parliament</td>\n",
              "      <td>Charles I Stuart</td>\n",
              "      <td>102</td>\n",
              "    </tr>\n",
              "    <tr>\n",
              "      <th>4</th>\n",
              "      <td>Scottish Parliament</td>\n",
              "      <td>Charles I Stuart</td>\n",
              "      <td>26</td>\n",
              "    </tr>\n",
              "    <tr>\n",
              "      <th>...</th>\n",
              "      <td>...</td>\n",
              "      <td>...</td>\n",
              "      <td>...</td>\n",
              "    </tr>\n",
              "    <tr>\n",
              "      <th>479</th>\n",
              "      <td>James II Stuart</td>\n",
              "      <td>William Cecil</td>\n",
              "      <td>4</td>\n",
              "    </tr>\n",
              "    <tr>\n",
              "      <th>480</th>\n",
              "      <td>Herry Montagu</td>\n",
              "      <td>William Cecil</td>\n",
              "      <td>2</td>\n",
              "    </tr>\n",
              "    <tr>\n",
              "      <th>481</th>\n",
              "      <td>Ralph Hopton</td>\n",
              "      <td>William Cecil</td>\n",
              "      <td>7</td>\n",
              "    </tr>\n",
              "    <tr>\n",
              "      <th>482</th>\n",
              "      <td>Lucius Cary</td>\n",
              "      <td>William Cecil</td>\n",
              "      <td>2</td>\n",
              "    </tr>\n",
              "    <tr>\n",
              "      <th>483</th>\n",
              "      <td>William Cecil</td>\n",
              "      <td>William Cecil</td>\n",
              "      <td>0</td>\n",
              "    </tr>\n",
              "  </tbody>\n",
              "</table>\n",
              "<p>484 rows × 3 columns</p>\n",
              "</div>"
            ],
            "text/plain": [
              "             Personaggio di riferimento     P. incontrato  Numero di volte\n",
              "0                      Charles I Stuart  Charles I Stuart                0\n",
              "1     Henriette Maria De Bourbon-Stuart  Charles I Stuart               71\n",
              "2    Maria de' Medici De Bourbon-Stuart  Charles I Stuart               39\n",
              "3                    English Parliament  Charles I Stuart              102\n",
              "4                   Scottish Parliament  Charles I Stuart               26\n",
              "..                                  ...               ...              ...\n",
              "479                     James II Stuart     William Cecil                4\n",
              "480                       Herry Montagu     William Cecil                2\n",
              "481                        Ralph Hopton     William Cecil                7\n",
              "482                         Lucius Cary     William Cecil                2\n",
              "483                       William Cecil     William Cecil                0\n",
              "\n",
              "[484 rows x 3 columns]"
            ]
          },
          "metadata": {
            "tags": []
          },
          "execution_count": 78
        }
      ]
    },
    {
      "cell_type": "code",
      "metadata": {
        "id": "0gWc6MgMjn-a"
      },
      "source": [
        "#Istruzione che crea il network prendendo i singoli campi della tabella precedente al fine di crearne un network\n",
        "G= nx.from_pandas_edgelist(norm_salvetti,source='Personaggio di riferimento',target='P. incontrato',edge_attr='Numero di volte',create_using=nx.DiGraph())"
      ],
      "execution_count": 79,
      "outputs": []
    },
    {
      "cell_type": "code",
      "metadata": {
        "id": "ly7x5h9B5X73",
        "colab": {
          "base_uri": "https://localhost:8080/",
          "height": 340
        },
        "outputId": "d5d69e60-04c5-4792-fed2-6d6cbbb1fb2b"
      },
      "source": [
        "#Blocco per la stampa del network proveniente dal file XLSX\n",
        "pers_doc=nx.spring_layout(G, k=8, scale=5, iterations=70) \n",
        "nx.draw(G,pers_doc,node_color='r')\n",
        "nx.draw_networkx_labels(G,pers_doc)\n",
        "plt.title('Social network according with documentation',fontsize = 20)\n",
        "plt.show()"
      ],
      "execution_count": 80,
      "outputs": [
        {
          "output_type": "display_data",
          "data": {
            "image/png": "[encoded data removed]",
            "text/plain": [
              "<Figure size 432x288 with 1 Axes>"
            ]
          },
          "metadata": {
            "tags": []
          }
        }
      ]
    },
    {
      "cell_type": "code",
      "metadata": {
        "id": "loff5cOu_q_f",
        "colab": {
          "base_uri": "https://localhost:8080/"
        },
        "outputId": "c46cf533-0cd8-4315-832f-d6472ba0bc10"
      },
      "source": [
        "G.out_degree(weight='Numero di volte')#Output del Degree del network impostando come 'peso' il valore delle volte in cui si incontrarno i personaggi"
      ],
      "execution_count": 81,
      "outputs": [
        {
          "output_type": "execute_result",
          "data": {
            "text/plain": [
              "OutDegreeView({'Charles I Stuart': 438, 'Henriette Maria De Bourbon-Stuart': 167, \"Maria de' Medici De Bourbon-Stuart\": 84, 'English Parliament': 561, 'Scottish Parliament': 101, 'Giovanni Giustinian': 17, 'Maurice von der Pfalz': 98, 'Rupert von der Pfalz': 33, 'Williem II van Oranje-Nassau': 32, 'Thomas Wentworth': 12, 'Charles II Stuart': 36, 'Robert Devereux': 158, 'Henry Rich': 123, 'John Digby': 102, 'William I Cavendish': 106, 'Robert Rich': 71, 'Mary Henriette': 33, 'James II Stuart': 50, 'Herry Montagu': 81, 'Ralph Hopton': 89, 'Lucius Cary': 63, 'William Cecil': 80})"
            ]
          },
          "metadata": {
            "tags": []
          },
          "execution_count": 81
        }
      ]
    },
    {
      "cell_type": "code",
      "metadata": {
        "id": "u3ntp5S1AMDT",
        "colab": {
          "base_uri": "https://localhost:8080/"
        },
        "outputId": "d117be9a-8fad-447b-a2c5-65bf97f93bf8"
      },
      "source": [
        "deg_cen_points = dict(G.in_degree(weight='Numero di volte'))#Output del Degree central point del network impostando come 'peso' il valore delle volte in cui si incontrarno i personaggi\n",
        "deg_cen_points"
      ],
      "execution_count": 85,
      "outputs": [
        {
          "output_type": "execute_result",
          "data": {
            "text/plain": [
              "{'Charles I Stuart': 438,\n",
              " 'Charles II Stuart': 35,\n",
              " 'English Parliament': 561,\n",
              " 'Giovanni Giustinian': 17,\n",
              " 'Henriette Maria De Bourbon-Stuart': 167,\n",
              " 'Henry Rich': 123,\n",
              " 'Herry Montagu': 81,\n",
              " 'James II Stuart': 50,\n",
              " 'John Digby': 102,\n",
              " 'Lucius Cary': 63,\n",
              " \"Maria de' Medici De Bourbon-Stuart\": 84,\n",
              " 'Mary Henriette': 33,\n",
              " 'Maurice von der Pfalz': 96,\n",
              " 'Ralph Hopton': 89,\n",
              " 'Robert Devereux': 158,\n",
              " 'Robert Rich': 71,\n",
              " 'Rupert von der Pfalz': 35,\n",
              " 'Scottish Parliament': 101,\n",
              " 'Thomas Wentworth': 12,\n",
              " 'William Cecil': 80,\n",
              " 'William I Cavendish': 106,\n",
              " 'Williem II van Oranje-Nassau': 33}"
            ]
          },
          "metadata": {
            "tags": []
          },
          "execution_count": 85
        }
      ]
    },
    {
      "cell_type": "code",
      "metadata": {
        "id": "qW5D5jZVAaRY",
        "colab": {
          "base_uri": "https://localhost:8080/"
        },
        "outputId": "3465e8b5-6f65-4c7b-dbad-79d6242a9c0f"
      },
      "source": [
        "between = dict(nx.betweenness_centrality(G,weight='Numero di volte'))#Output della Betweenness del network impostando come 'peso' il valore delle volte in cui si incontrarno i personaggi\n",
        "between"
      ],
      "execution_count": 84,
      "outputs": [
        {
          "output_type": "execute_result",
          "data": {
            "text/plain": [
              "{'Charles I Stuart': 0.05,\n",
              " 'Charles II Stuart': 32.9939761419061,\n",
              " 'English Parliament': 0.05,\n",
              " 'Giovanni Giustinian': 572.9704524445863,\n",
              " 'Henriette Maria De Bourbon-Stuart': 480.1714638449636,\n",
              " 'Henry Rich': 0.34880838814899706,\n",
              " 'Herry Montagu': 0.49123262212209806,\n",
              " 'James II Stuart': 0.2637445848916435,\n",
              " 'John Digby': 0.4072875167701238,\n",
              " 'Lucius Cary': 1.0848729018708843,\n",
              " \"Maria de' Medici De Bourbon-Stuart\": 420.9206162682858,\n",
              " 'Mary Henriette': 33.4992357928088,\n",
              " 'Maurice von der Pfalz': 69.81126506727395,\n",
              " 'Ralph Hopton': 0.6288443198299211,\n",
              " 'Robert Devereux': 1.6151538316439022,\n",
              " 'Robert Rich': 6.243432263868293,\n",
              " 'Rupert von der Pfalz': 341.5598959560677,\n",
              " 'Scottish Parliament': 5.2841920586239866,\n",
              " 'Thomas Wentworth': 304.13024239627805,\n",
              " 'William Cecil': 0.4988640340338343,\n",
              " 'William I Cavendish': 2.022779388345657,\n",
              " 'Williem II van Oranje-Nassau': 844.2802674609994}"
            ]
          },
          "metadata": {
            "tags": []
          },
          "execution_count": 84
        }
      ]
    },
    {
      "cell_type": "code",
      "metadata": {
        "id": "NEg43W3Z_Pn3",
        "colab": {
          "base_uri": "https://localhost:8080/"
        },
        "outputId": "eb259b00-dafd-48ab-ea0d-4686a634ea2b"
      },
      "source": [
        "degree=nxa.degree_centrality(G) #Output del degree del network\n",
        "sorted((v, f\"{c:0.2f}\") for v, c in degree.items()) "
      ],
      "execution_count": 86,
      "outputs": [
        {
          "output_type": "execute_result",
          "data": {
            "text/plain": [
              "[('Charles I Stuart', '2.10'),\n",
              " ('Charles II Stuart', '2.10'),\n",
              " ('English Parliament', '2.10'),\n",
              " ('Giovanni Giustinian', '2.10'),\n",
              " ('Henriette Maria De Bourbon-Stuart', '2.10'),\n",
              " ('Henry Rich', '2.10'),\n",
              " ('Herry Montagu', '2.10'),\n",
              " ('James II Stuart', '2.10'),\n",
              " ('John Digby', '2.10'),\n",
              " ('Lucius Cary', '2.10'),\n",
              " (\"Maria de' Medici De Bourbon-Stuart\", '2.10'),\n",
              " ('Mary Henriette', '2.10'),\n",
              " ('Maurice von der Pfalz', '2.10'),\n",
              " ('Ralph Hopton', '2.10'),\n",
              " ('Robert Devereux', '2.10'),\n",
              " ('Robert Rich', '2.10'),\n",
              " ('Rupert von der Pfalz', '2.10'),\n",
              " ('Scottish Parliament', '2.10'),\n",
              " ('Thomas Wentworth', '2.10'),\n",
              " ('William Cecil', '2.10'),\n",
              " ('William I Cavendish', '2.10'),\n",
              " ('Williem II van Oranje-Nassau', '2.10')]"
            ]
          },
          "metadata": {
            "tags": []
          },
          "execution_count": 86
        }
      ]
    },
    {
      "cell_type": "code",
      "metadata": {
        "id": "qtrDogZQ-Y7A",
        "colab": {
          "base_uri": "https://localhost:8080/"
        },
        "outputId": "59a662e2-b040-490b-c90e-d902c82ec4c4"
      },
      "source": [
        "closeness=nxa.closeness_centrality(G)#Output della closeness del network\n",
        "sorted((v, f\"{c:0.2f}\") for v, c in closeness.items())"
      ],
      "execution_count": 87,
      "outputs": [
        {
          "output_type": "execute_result",
          "data": {
            "text/plain": [
              "[('Charles I Stuart', '1.00'),\n",
              " ('Charles II Stuart', '1.00'),\n",
              " ('English Parliament', '1.00'),\n",
              " ('Giovanni Giustinian', '1.00'),\n",
              " ('Henriette Maria De Bourbon-Stuart', '1.00'),\n",
              " ('Henry Rich', '1.00'),\n",
              " ('Herry Montagu', '1.00'),\n",
              " ('James II Stuart', '1.00'),\n",
              " ('John Digby', '1.00'),\n",
              " ('Lucius Cary', '1.00'),\n",
              " (\"Maria de' Medici De Bourbon-Stuart\", '1.00'),\n",
              " ('Mary Henriette', '1.00'),\n",
              " ('Maurice von der Pfalz', '1.00'),\n",
              " ('Ralph Hopton', '1.00'),\n",
              " ('Robert Devereux', '1.00'),\n",
              " ('Robert Rich', '1.00'),\n",
              " ('Rupert von der Pfalz', '1.00'),\n",
              " ('Scottish Parliament', '1.00'),\n",
              " ('Thomas Wentworth', '1.00'),\n",
              " ('William Cecil', '1.00'),\n",
              " ('William I Cavendish', '1.00'),\n",
              " ('Williem II van Oranje-Nassau', '1.00')]"
            ]
          },
          "metadata": {
            "tags": []
          },
          "execution_count": 87
        }
      ]
    },
    {
      "cell_type": "code",
      "metadata": {
        "id": "xXMEo3-A8a2u"
      },
      "source": [
        "norm_salvetti.groupby(\"Personaggio di riferimento\").mean() #Blocco che produce la media di quante volte i personaggi di riferimento incontrano altri personaggi"
      ],
      "execution_count": null,
      "outputs": []
    },
    {
      "cell_type": "code",
      "metadata": {
        "id": "5BC41NHF9oyp",
        "colab": {
          "base_uri": "https://localhost:8080/",
          "height": 762
        },
        "outputId": "661b0d7a-f38d-4407-a2ae-f9b587781485"
      },
      "source": [
        "norm_salvetti.groupby(\"Personaggio di riferimento\").median() #Blocco che produce la mediana di quante volte i personaggi di riferimento incontrano altri personaggi"
      ],
      "execution_count": 89,
      "outputs": [
        {
          "output_type": "execute_result",
          "data": {
            "text/html": [
              "<div>\n",
              "<style scoped>\n",
              "    .dataframe tbody tr th:only-of-type {\n",
              "        vertical-align: middle;\n",
              "    }\n",
              "\n",
              "    .dataframe tbody tr th {\n",
              "        vertical-align: top;\n",
              "    }\n",
              "\n",
              "    .dataframe thead th {\n",
              "        text-align: right;\n",
              "    }\n",
              "</style>\n",
              "<table border=\"1\" class=\"dataframe\">\n",
              "  <thead>\n",
              "    <tr style=\"text-align: right;\">\n",
              "      <th></th>\n",
              "      <th>Numero di volte</th>\n",
              "    </tr>\n",
              "    <tr>\n",
              "      <th>Personaggio di riferimento</th>\n",
              "      <th></th>\n",
              "    </tr>\n",
              "  </thead>\n",
              "  <tbody>\n",
              "    <tr>\n",
              "      <th>Charles I Stuart</th>\n",
              "      <td>10.0</td>\n",
              "    </tr>\n",
              "    <tr>\n",
              "      <th>Charles II Stuart</th>\n",
              "      <td>0.0</td>\n",
              "    </tr>\n",
              "    <tr>\n",
              "      <th>English Parliament</th>\n",
              "      <td>16.5</td>\n",
              "    </tr>\n",
              "    <tr>\n",
              "      <th>Giovanni Giustinian</th>\n",
              "      <td>0.0</td>\n",
              "    </tr>\n",
              "    <tr>\n",
              "      <th>Henriette Maria De Bourbon-Stuart</th>\n",
              "      <td>0.0</td>\n",
              "    </tr>\n",
              "    <tr>\n",
              "      <th>Henry Rich</th>\n",
              "      <td>2.0</td>\n",
              "    </tr>\n",
              "    <tr>\n",
              "      <th>Herry Montagu</th>\n",
              "      <td>2.0</td>\n",
              "    </tr>\n",
              "    <tr>\n",
              "      <th>James II Stuart</th>\n",
              "      <td>1.5</td>\n",
              "    </tr>\n",
              "    <tr>\n",
              "      <th>John Digby</th>\n",
              "      <td>2.0</td>\n",
              "    </tr>\n",
              "    <tr>\n",
              "      <th>Lucius Cary</th>\n",
              "      <td>0.0</td>\n",
              "    </tr>\n",
              "    <tr>\n",
              "      <th>Maria de' Medici De Bourbon-Stuart</th>\n",
              "      <td>0.0</td>\n",
              "    </tr>\n",
              "    <tr>\n",
              "      <th>Mary Henriette</th>\n",
              "      <td>0.0</td>\n",
              "    </tr>\n",
              "    <tr>\n",
              "      <th>Maurice von der Pfalz</th>\n",
              "      <td>0.0</td>\n",
              "    </tr>\n",
              "    <tr>\n",
              "      <th>Ralph Hopton</th>\n",
              "      <td>2.0</td>\n",
              "    </tr>\n",
              "    <tr>\n",
              "      <th>Robert Devereux</th>\n",
              "      <td>2.0</td>\n",
              "    </tr>\n",
              "    <tr>\n",
              "      <th>Robert Rich</th>\n",
              "      <td>0.0</td>\n",
              "    </tr>\n",
              "    <tr>\n",
              "      <th>Rupert von der Pfalz</th>\n",
              "      <td>0.0</td>\n",
              "    </tr>\n",
              "    <tr>\n",
              "      <th>Scottish Parliament</th>\n",
              "      <td>2.0</td>\n",
              "    </tr>\n",
              "    <tr>\n",
              "      <th>Thomas Wentworth</th>\n",
              "      <td>0.0</td>\n",
              "    </tr>\n",
              "    <tr>\n",
              "      <th>William Cecil</th>\n",
              "      <td>2.0</td>\n",
              "    </tr>\n",
              "    <tr>\n",
              "      <th>William I Cavendish</th>\n",
              "      <td>0.5</td>\n",
              "    </tr>\n",
              "    <tr>\n",
              "      <th>Williem II van Oranje-Nassau</th>\n",
              "      <td>0.0</td>\n",
              "    </tr>\n",
              "  </tbody>\n",
              "</table>\n",
              "</div>"
            ],
            "text/plain": [
              "                                    Numero di volte\n",
              "Personaggio di riferimento                         \n",
              "Charles I Stuart                               10.0\n",
              "Charles II Stuart                               0.0\n",
              "English Parliament                             16.5\n",
              "Giovanni Giustinian                             0.0\n",
              "Henriette Maria De Bourbon-Stuart               0.0\n",
              "Henry Rich                                      2.0\n",
              "Herry Montagu                                   2.0\n",
              "James II Stuart                                 1.5\n",
              "John Digby                                      2.0\n",
              "Lucius Cary                                     0.0\n",
              "Maria de' Medici De Bourbon-Stuart              0.0\n",
              "Mary Henriette                                  0.0\n",
              "Maurice von der Pfalz                           0.0\n",
              "Ralph Hopton                                    2.0\n",
              "Robert Devereux                                 2.0\n",
              "Robert Rich                                     0.0\n",
              "Rupert von der Pfalz                            0.0\n",
              "Scottish Parliament                             2.0\n",
              "Thomas Wentworth                                0.0\n",
              "William Cecil                                   2.0\n",
              "William I Cavendish                             0.5\n",
              "Williem II van Oranje-Nassau                    0.0"
            ]
          },
          "metadata": {
            "tags": []
          },
          "execution_count": 89
        }
      ]
    },
    {
      "cell_type": "code",
      "metadata": {
        "id": "bAvgq9jpAvL-"
      },
      "source": [
        "#Blocco che ci consente di assegnare il file XLSX ad una variabile e visualizzarlo come tabella\n",
        "upload=\"/content/topics.xlsx\"\n",
        "topics=pd.read_excel(upload)\n",
        "topics"
      ],
      "execution_count": null,
      "outputs": []
    },
    {
      "cell_type": "code",
      "metadata": {
        "id": "K_RIH3JnDtLo"
      },
      "source": [
        "#Blocco che riorganizza la tabella in tre colonne ben distinte\n",
        "norm_topics= pd.melt(topics, id_vars=['Personaggio'], var_name='Topic', value_name='Numero di volte')\n",
        "norm_topics"
      ],
      "execution_count": null,
      "outputs": []
    },
    {
      "cell_type": "code",
      "metadata": {
        "id": "V5hVIf8bEFtS",
        "colab": {
          "base_uri": "https://localhost:8080/",
          "height": 328
        },
        "outputId": "41cc5819-2fa5-45eb-80ef-02e57d93cd8e"
      },
      "source": [
        "norm_topics.groupby(\"Topic\").mean()#Blocco he produce la media dei topic che compaiono nel corpus"
      ],
      "execution_count": 92,
      "outputs": [
        {
          "output_type": "execute_result",
          "data": {
            "text/html": [
              "<div>\n",
              "<style scoped>\n",
              "    .dataframe tbody tr th:only-of-type {\n",
              "        vertical-align: middle;\n",
              "    }\n",
              "\n",
              "    .dataframe tbody tr th {\n",
              "        vertical-align: top;\n",
              "    }\n",
              "\n",
              "    .dataframe thead th {\n",
              "        text-align: right;\n",
              "    }\n",
              "</style>\n",
              "<table border=\"1\" class=\"dataframe\">\n",
              "  <thead>\n",
              "    <tr style=\"text-align: right;\">\n",
              "      <th></th>\n",
              "      <th>Numero di volte</th>\n",
              "    </tr>\n",
              "    <tr>\n",
              "      <th>Topic</th>\n",
              "      <th></th>\n",
              "    </tr>\n",
              "  </thead>\n",
              "  <tbody>\n",
              "    <tr>\n",
              "      <th>Commercio</th>\n",
              "      <td>2.363636</td>\n",
              "    </tr>\n",
              "    <tr>\n",
              "      <th>Dinastia</th>\n",
              "      <td>4.681818</td>\n",
              "    </tr>\n",
              "    <tr>\n",
              "      <th>Governo</th>\n",
              "      <td>9.863636</td>\n",
              "    </tr>\n",
              "    <tr>\n",
              "      <th>Guerra</th>\n",
              "      <td>19.272727</td>\n",
              "    </tr>\n",
              "    <tr>\n",
              "      <th>Movimento</th>\n",
              "      <td>8.500000</td>\n",
              "    </tr>\n",
              "    <tr>\n",
              "      <th>Politica</th>\n",
              "      <td>18.363636</td>\n",
              "    </tr>\n",
              "    <tr>\n",
              "      <th>Religione</th>\n",
              "      <td>6.863636</td>\n",
              "    </tr>\n",
              "    <tr>\n",
              "      <th>Salute</th>\n",
              "      <td>0.500000</td>\n",
              "    </tr>\n",
              "  </tbody>\n",
              "</table>\n",
              "</div>"
            ],
            "text/plain": [
              "           Numero di volte\n",
              "Topic                     \n",
              "Commercio         2.363636\n",
              "Dinastia          4.681818\n",
              "Governo           9.863636\n",
              "Guerra           19.272727\n",
              "Movimento         8.500000\n",
              "Politica         18.363636\n",
              "Religione         6.863636\n",
              "Salute            0.500000"
            ]
          },
          "metadata": {
            "tags": []
          },
          "execution_count": 92
        }
      ]
    },
    {
      "cell_type": "code",
      "metadata": {
        "id": "D3k9hWZuEi0l",
        "colab": {
          "base_uri": "https://localhost:8080/",
          "height": 328
        },
        "outputId": "34a37d40-f119-4d56-df48-8c9d91187af7"
      },
      "source": [
        "norm_topics.groupby(\"Topic\").median()#Blocco he produce la mediana dei topic che compaiono nel corpus"
      ],
      "execution_count": 93,
      "outputs": [
        {
          "output_type": "execute_result",
          "data": {
            "text/html": [
              "<div>\n",
              "<style scoped>\n",
              "    .dataframe tbody tr th:only-of-type {\n",
              "        vertical-align: middle;\n",
              "    }\n",
              "\n",
              "    .dataframe tbody tr th {\n",
              "        vertical-align: top;\n",
              "    }\n",
              "\n",
              "    .dataframe thead th {\n",
              "        text-align: right;\n",
              "    }\n",
              "</style>\n",
              "<table border=\"1\" class=\"dataframe\">\n",
              "  <thead>\n",
              "    <tr style=\"text-align: right;\">\n",
              "      <th></th>\n",
              "      <th>Numero di volte</th>\n",
              "    </tr>\n",
              "    <tr>\n",
              "      <th>Topic</th>\n",
              "      <th></th>\n",
              "    </tr>\n",
              "  </thead>\n",
              "  <tbody>\n",
              "    <tr>\n",
              "      <th>Commercio</th>\n",
              "      <td>0.0</td>\n",
              "    </tr>\n",
              "    <tr>\n",
              "      <th>Dinastia</th>\n",
              "      <td>0.5</td>\n",
              "    </tr>\n",
              "    <tr>\n",
              "      <th>Governo</th>\n",
              "      <td>4.0</td>\n",
              "    </tr>\n",
              "    <tr>\n",
              "      <th>Guerra</th>\n",
              "      <td>19.0</td>\n",
              "    </tr>\n",
              "    <tr>\n",
              "      <th>Movimento</th>\n",
              "      <td>6.0</td>\n",
              "    </tr>\n",
              "    <tr>\n",
              "      <th>Politica</th>\n",
              "      <td>13.0</td>\n",
              "    </tr>\n",
              "    <tr>\n",
              "      <th>Religione</th>\n",
              "      <td>0.0</td>\n",
              "    </tr>\n",
              "    <tr>\n",
              "      <th>Salute</th>\n",
              "      <td>0.0</td>\n",
              "    </tr>\n",
              "  </tbody>\n",
              "</table>\n",
              "</div>"
            ],
            "text/plain": [
              "           Numero di volte\n",
              "Topic                     \n",
              "Commercio              0.0\n",
              "Dinastia               0.5\n",
              "Governo                4.0\n",
              "Guerra                19.0\n",
              "Movimento              6.0\n",
              "Politica              13.0\n",
              "Religione              0.0\n",
              "Salute                 0.0"
            ]
          },
          "metadata": {
            "tags": []
          },
          "execution_count": 93
        }
      ]
    },
    {
      "cell_type": "code",
      "metadata": {
        "id": "Tzwh54N1GXhX",
        "colab": {
          "base_uri": "https://localhost:8080/",
          "height": 731
        },
        "outputId": "70f87ff8-370e-4b54-f6de-389ec97d3791"
      },
      "source": [
        "#Blocco che stampa quante volte ogni singolo personaggio compare in una notizia con il topic Guerra\n",
        "war=norm_topics[norm_topics['Topic']=='Guerra']\n",
        "war"
      ],
      "execution_count": 94,
      "outputs": [
        {
          "output_type": "execute_result",
          "data": {
            "text/html": [
              "<div>\n",
              "<style scoped>\n",
              "    .dataframe tbody tr th:only-of-type {\n",
              "        vertical-align: middle;\n",
              "    }\n",
              "\n",
              "    .dataframe tbody tr th {\n",
              "        vertical-align: top;\n",
              "    }\n",
              "\n",
              "    .dataframe thead th {\n",
              "        text-align: right;\n",
              "    }\n",
              "</style>\n",
              "<table border=\"1\" class=\"dataframe\">\n",
              "  <thead>\n",
              "    <tr style=\"text-align: right;\">\n",
              "      <th></th>\n",
              "      <th>Personaggio</th>\n",
              "      <th>Topic</th>\n",
              "      <th>Numero di volte</th>\n",
              "    </tr>\n",
              "  </thead>\n",
              "  <tbody>\n",
              "    <tr>\n",
              "      <th>0</th>\n",
              "      <td>Charles I Stuart</td>\n",
              "      <td>Guerra</td>\n",
              "      <td>55</td>\n",
              "    </tr>\n",
              "    <tr>\n",
              "      <th>1</th>\n",
              "      <td>Henriette Maria De Bourbon-Stuart</td>\n",
              "      <td>Guerra</td>\n",
              "      <td>21</td>\n",
              "    </tr>\n",
              "    <tr>\n",
              "      <th>2</th>\n",
              "      <td>Maria de' Medici De Bourbon-Stuart</td>\n",
              "      <td>Guerra</td>\n",
              "      <td>2</td>\n",
              "    </tr>\n",
              "    <tr>\n",
              "      <th>3</th>\n",
              "      <td>English Parliament</td>\n",
              "      <td>Guerra</td>\n",
              "      <td>51</td>\n",
              "    </tr>\n",
              "    <tr>\n",
              "      <th>4</th>\n",
              "      <td>Scottish Parliament</td>\n",
              "      <td>Guerra</td>\n",
              "      <td>33</td>\n",
              "    </tr>\n",
              "    <tr>\n",
              "      <th>5</th>\n",
              "      <td>Giovanni Giustinian</td>\n",
              "      <td>Guerra</td>\n",
              "      <td>0</td>\n",
              "    </tr>\n",
              "    <tr>\n",
              "      <th>6</th>\n",
              "      <td>Maurice von der Pfalz</td>\n",
              "      <td>Guerra</td>\n",
              "      <td>27</td>\n",
              "    </tr>\n",
              "    <tr>\n",
              "      <th>7</th>\n",
              "      <td>Rupert von der Pfalz</td>\n",
              "      <td>Guerra</td>\n",
              "      <td>22</td>\n",
              "    </tr>\n",
              "    <tr>\n",
              "      <th>8</th>\n",
              "      <td>Williem II van Oranje-Nassau</td>\n",
              "      <td>Guerra</td>\n",
              "      <td>0</td>\n",
              "    </tr>\n",
              "    <tr>\n",
              "      <th>9</th>\n",
              "      <td>Thomas Wentworth</td>\n",
              "      <td>Guerra</td>\n",
              "      <td>3</td>\n",
              "    </tr>\n",
              "    <tr>\n",
              "      <th>10</th>\n",
              "      <td>Charles II Stuart</td>\n",
              "      <td>Guerra</td>\n",
              "      <td>3</td>\n",
              "    </tr>\n",
              "    <tr>\n",
              "      <th>11</th>\n",
              "      <td>Robert Devereux</td>\n",
              "      <td>Guerra</td>\n",
              "      <td>44</td>\n",
              "    </tr>\n",
              "    <tr>\n",
              "      <th>12</th>\n",
              "      <td>Henry Rich</td>\n",
              "      <td>Guerra</td>\n",
              "      <td>21</td>\n",
              "    </tr>\n",
              "    <tr>\n",
              "      <th>13</th>\n",
              "      <td>John Digby</td>\n",
              "      <td>Guerra</td>\n",
              "      <td>29</td>\n",
              "    </tr>\n",
              "    <tr>\n",
              "      <th>14</th>\n",
              "      <td>William I Cavendish</td>\n",
              "      <td>Guerra</td>\n",
              "      <td>17</td>\n",
              "    </tr>\n",
              "    <tr>\n",
              "      <th>15</th>\n",
              "      <td>Robert Rich</td>\n",
              "      <td>Guerra</td>\n",
              "      <td>34</td>\n",
              "    </tr>\n",
              "    <tr>\n",
              "      <th>16</th>\n",
              "      <td>Mary Henriette</td>\n",
              "      <td>Guerra</td>\n",
              "      <td>0</td>\n",
              "    </tr>\n",
              "    <tr>\n",
              "      <th>17</th>\n",
              "      <td>James II Stuart</td>\n",
              "      <td>Guerra</td>\n",
              "      <td>1</td>\n",
              "    </tr>\n",
              "    <tr>\n",
              "      <th>18</th>\n",
              "      <td>Herry Montagu</td>\n",
              "      <td>Guerra</td>\n",
              "      <td>9</td>\n",
              "    </tr>\n",
              "    <tr>\n",
              "      <th>19</th>\n",
              "      <td>Ralph Hopton</td>\n",
              "      <td>Guerra</td>\n",
              "      <td>22</td>\n",
              "    </tr>\n",
              "    <tr>\n",
              "      <th>20</th>\n",
              "      <td>Lucius Cary</td>\n",
              "      <td>Guerra</td>\n",
              "      <td>17</td>\n",
              "    </tr>\n",
              "    <tr>\n",
              "      <th>21</th>\n",
              "      <td>William Cecil</td>\n",
              "      <td>Guerra</td>\n",
              "      <td>13</td>\n",
              "    </tr>\n",
              "  </tbody>\n",
              "</table>\n",
              "</div>"
            ],
            "text/plain": [
              "                           Personaggio   Topic  Numero di volte\n",
              "0                     Charles I Stuart  Guerra               55\n",
              "1    Henriette Maria De Bourbon-Stuart  Guerra               21\n",
              "2   Maria de' Medici De Bourbon-Stuart  Guerra                2\n",
              "3                   English Parliament  Guerra               51\n",
              "4                  Scottish Parliament  Guerra               33\n",
              "5                  Giovanni Giustinian  Guerra                0\n",
              "6                Maurice von der Pfalz  Guerra               27\n",
              "7                 Rupert von der Pfalz  Guerra               22\n",
              "8         Williem II van Oranje-Nassau  Guerra                0\n",
              "9                     Thomas Wentworth  Guerra                3\n",
              "10                   Charles II Stuart  Guerra                3\n",
              "11                     Robert Devereux  Guerra               44\n",
              "12                          Henry Rich  Guerra               21\n",
              "13                          John Digby  Guerra               29\n",
              "14                 William I Cavendish  Guerra               17\n",
              "15                         Robert Rich  Guerra               34\n",
              "16                      Mary Henriette  Guerra                0\n",
              "17                     James II Stuart  Guerra                1\n",
              "18                       Herry Montagu  Guerra                9\n",
              "19                        Ralph Hopton  Guerra               22\n",
              "20                         Lucius Cary  Guerra               17\n",
              "21                       William Cecil  Guerra               13"
            ]
          },
          "metadata": {
            "tags": []
          },
          "execution_count": 94
        }
      ]
    }
  ]
}